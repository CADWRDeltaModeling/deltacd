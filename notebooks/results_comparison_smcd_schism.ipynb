{
 "cells": [
  {
   "cell_type": "code",
   "execution_count": null,
   "metadata": {},
   "outputs": [],
   "source": [
    "import pandas as pd\n",
    "from deltacd.utils.dss_to_df import dss_to_df\n",
    "from deltacd.utils.deltacd2dsm2 import read_dcd\n",
    "import xarray as xr\n",
    "import matplotlib.pyplot as plt\n",
    "import pyhecdss\n",
    "import os\n",
    "import numpy as np\n",
    "\n",
    "%matplotlib inline"
   ]
  },
  {
   "cell_type": "markdown",
   "metadata": {},
   "source": [
    "# Read new DeltaCD output"
   ]
  },
  {
   "cell_type": "code",
   "execution_count": null,
   "metadata": {},
   "outputs": [],
   "source": [
    "ds = xr.open_dataset('../examples/Output/dcd_suisun_schism_nows_lch1_20240424.nc')\n",
    "dcd_dsm2_df = ds.to_dataframe()"
   ]
  },
  {
   "cell_type": "markdown",
   "metadata": {},
   "source": [
    "# Convert netcdf to dataframe"
   ]
  },
  {
   "cell_type": "code",
   "execution_count": null,
   "metadata": {},
   "outputs": [],
   "source": [
    "new_drain_df = pd.pivot_table(dcd_dsm2_df, values = 'drainage', index = 'time', columns = 'node')\n",
    "new_drain_df.index.name=None\n",
    "new_drain_df.index.name = \"datetime\"\n",
    "\n",
    "new_drain_df.columns.name = None"
   ]
  },
  {
   "cell_type": "code",
   "execution_count": null,
   "metadata": {},
   "outputs": [],
   "source": [
    "new_seep_df = pd.pivot_table(dcd_dsm2_df, values = 'seepage', index = 'time', columns = 'node')\n",
    "new_seep_df.index.name=None\n",
    "new_seep_df.index.name = \"datetime\"\n",
    "\n",
    "new_seep_df.columns.name = None"
   ]
  },
  {
   "cell_type": "code",
   "execution_count": null,
   "metadata": {},
   "outputs": [],
   "source": [
    "new_div_df = pd.pivot_table(dcd_dsm2_df, values = 'diversion', index = 'time', columns = 'node')\n",
    "new_div_df.index.name=None\n",
    "new_div_df.index.name = \"datetime\"\n",
    "\n",
    "new_div_df.columns.name = None\n",
    "# new_div_df.columns = new_div_df.columns.droplevel()"
   ]
  },
  {
   "cell_type": "code",
   "execution_count": null,
   "metadata": {},
   "outputs": [],
   "source": [
    "# print(new_div_df.columns)\n",
    "# new_div_df.to_csv('new_div.csv',float_format =\"%.2f\")"
   ]
  },
  {
   "cell_type": "code",
   "execution_count": null,
   "metadata": {},
   "outputs": [],
   "source": [
    "# new_div_df.groupby(pd.Grouper(freq='M'))['BBID'].sum().plot()"
   ]
  },
  {
   "cell_type": "markdown",
   "metadata": {},
   "source": [
    "# convert old dss output to csv\n",
    "## run once to convert dss to csv files"
   ]
  },
  {
   "cell_type": "code",
   "execution_count": null,
   "metadata": {},
   "outputs": [],
   "source": [
    "bparts_to_read=None\n",
    "cpart_outnames = { 'DIV-FLOW':\"div\",'DRAIN-FLOW':\"drain\",'SEEP-FLOW':\"seep\"}\n",
    "cparts_to_read=cpart_outnames.keys()\n",
    "eparts_to_read=None\n",
    "fparts_to_read=None\n",
    "start_date_str=None\n",
    "end_date_str=None\n",
    "fpath = r'D:\\Documents\\projects\\CADWRDeltaModeling\\deltaCD-master\\deltacd\\tests\\dcdv1.3_dss_outputs\\smcd_schism\\SMCD_pond_Sep2024_1.dss'\n",
    "# outfile_prefix = os.path.splitext(os.path.basename(fpath))[0]\n",
    "outfile_prefix = 'dcdv1.3_smcd_schism'\n",
    "dssfile = pyhecdss.DSSFile(fpath)\n",
    "cat = dssfile.read_catalog()\n",
    "paths = dssfile.get_pathnames()\n",
    "# dfs = []\n",
    "for cpart in cparts_to_read:\n",
    "        dfs=pd.DataFrame()\n",
    "        outfile=outfile_prefix+'_'+cpart_outnames[cpart]+'.csv'\n",
    "        plist=dssfile.get_pathnames(cat[cat.C==cpart])\n",
    "        for path in plist:\n",
    "            parts = path.split('/')\n",
    "            node = parts[2]\n",
    "            # print(node)\n",
    "            # if bparts_to_read is not None and parts[2] not in bparts_to_read:\n",
    "            #     continue\n",
    "            # if cparts_to_read is not None and parts[3] not in cparts_to_read:\n",
    "            #     continue\n",
    "            # if eparts_to_read is not None and parts[5] not in eparts_to_read:\n",
    "            #     continue\n",
    "            # if fparts_to_read is not None and parts[6] not in fparts_to_read:\n",
    "            #     continue\n",
    "            data, cunits, ctype = dssfile.read_rts(path, start_date_str,\n",
    "                                                    end_date_str)\n",
    "            # try:\n",
    "            #         data.index = data.index.to_timestamp()\n",
    "            # except:\n",
    "            #         pass\n",
    "            # data = pd.melt(data.reset_index(), id_vars=[\n",
    "            #                 'index'], value_vars=[path], var_name='pathname')\n",
    "            # data.rename(columns={'index': 'time'}, inplace=True)\n",
    "            try:\n",
    "                dfs[node] = data\n",
    "            except (AttributeError,TypeError):\n",
    "                dfs=data\n",
    "                dfs.columns=[node]\n",
    "            dfs.index.name = \"datetime\"\n",
    "        dfs.to_csv(outfile,float_format=\"%.2f\",date_format=\"%Y-%m-%dT%H:%M\")"
   ]
  },
  {
   "cell_type": "code",
   "execution_count": null,
   "metadata": {},
   "outputs": [],
   "source": [
    "dsm2_old_div_df = pd.read_csv(\"dcdv1.3_smcd_schism_div.csv\",parse_dates=[0],index_col=0)\n",
    "dsm2_old_div_df.columns = dsm2_old_div_df.columns.astype(int)\n",
    "\n",
    "div_diff_df = new_div_df.subtract(dsm2_old_div_df)\n",
    "\n",
    "div_pc_df = new_div_df.subtract(dsm2_old_div_df).div(dsm2_old_div_df).multiply(100)\n",
    "\n"
   ]
  },
  {
   "cell_type": "code",
   "execution_count": null,
   "metadata": {},
   "outputs": [],
   "source": [
    "# print(div_diff_df)"
   ]
  },
  {
   "cell_type": "code",
   "execution_count": null,
   "metadata": {},
   "outputs": [],
   "source": [
    "diff_desc = div_diff_df.replace([np.inf, -np.inf],np.nan).describe()\n",
    "diff_desc = diff_desc.T\n",
    "# diff_desc.to_csv(\"div_diff_desc.csv\")\n",
    "\n",
    "pc_desc = div_pc_df.replace([np.inf, -np.inf],np.nan).describe()\n",
    "pc_desc = pc_desc.T\n",
    "# pc_desc.to_csv(\"div_pc_desc.csv\")"
   ]
  },
  {
   "cell_type": "code",
   "execution_count": null,
   "metadata": {},
   "outputs": [],
   "source": [
    "# print(diff_desc.index)"
   ]
  },
  {
   "cell_type": "code",
   "execution_count": null,
   "metadata": {},
   "outputs": [],
   "source": [
    "plt.figure(figsize=(10,6))\n",
    "plt.subplot(2, 1, 1)\n",
    "plt.title('DIV-FLOW difference and percent change between deltaCD and dcdv1.3 outputs')\n",
    "plt.bar(diff_desc.index,diff_desc['mean'])\n",
    "plt.ylabel('difference (cfs)')\n",
    "# plt.xticks(np.arange(1, 257+1, 17))\n",
    "\n",
    "plt.subplot(2, 1, 2)\n",
    "plt.bar(pc_desc.index.values,pc_desc['mean'])\n",
    "plt.ylabel('percent change')\n",
    "plt.xlabel('node')\n",
    "# plt.xticks(np.arange(1, 257+1, 17))\n",
    "# plt.savefig('smcd_schism_div_diff_pc.png')"
   ]
  },
  {
   "cell_type": "code",
   "execution_count": null,
   "metadata": {},
   "outputs": [],
   "source": [
    "dsm2_old_drain_df = pd.read_csv(\"dcdv1.3_smcd_schism_drain.csv\",parse_dates=[0],index_col=0)\n",
    "dsm2_old_drain_df.columns = dsm2_old_drain_df.columns.astype(int)\n",
    "drain_diff_df = new_drain_df - dsm2_old_drain_df\n",
    "drain_pc_df = new_drain_df.subtract(dsm2_old_drain_df).div(dsm2_old_drain_df).multiply(100)\n",
    "# drain_diff_report = ProfileReport(drain_diff_df, title=\"diff\",config_file='config_minimal.yaml')"
   ]
  },
  {
   "cell_type": "code",
   "execution_count": null,
   "metadata": {},
   "outputs": [],
   "source": [
    "diff_desc = drain_diff_df.replace([np.inf, -np.inf],np.nan).describe()\n",
    "diff_desc = diff_desc.T\n",
    "# diff_desc.to_csv(\"drain_diff_desc.csv\")\n",
    "\n",
    "pc_desc = drain_pc_df.replace([np.inf, -np.inf],np.nan).describe()\n",
    "pc_desc = pc_desc.T\n",
    "# pc_desc.to_csv(\"drain_pc_desc.csv\")"
   ]
  },
  {
   "cell_type": "code",
   "execution_count": null,
   "metadata": {},
   "outputs": [],
   "source": [
    "plt.figure(figsize=(10,6))\n",
    "plt.subplot(2, 1, 1)\n",
    "plt.title('DRAIN-FLOW difference and percent change between deltaCD and dcdv1.3 outputs')\n",
    "plt.bar(diff_desc.index,diff_desc['mean'])\n",
    "plt.ylabel('difference (cfs)')\n",
    "# plt.xticks(np.arange(1, 257+1, 17))\n",
    "\n",
    "plt.subplot(2, 1, 2)\n",
    "plt.bar(pc_desc.index,pc_desc['mean'])\n",
    "plt.ylabel('percent change')\n",
    "plt.xlabel('node')\n",
    "# plt.xticks(np.arange(1, 257+1, 17))\n",
    "# plt.savefig('smcd_schism_drain_diff_pc.png')"
   ]
  },
  {
   "cell_type": "code",
   "execution_count": null,
   "metadata": {},
   "outputs": [],
   "source": [
    "dsm2_old_seep_df = pd.read_csv(\"dcdv1.3_smcd_schism_seep.csv\",parse_dates=[0],index_col=0)\n",
    "dsm2_old_seep_df.columns = dsm2_old_seep_df.columns.astype(int)\n",
    "seep_diff_df = new_seep_df - dsm2_old_seep_df\n",
    "seep_pc_df = new_seep_df.subtract(dsm2_old_seep_df).div(dsm2_old_seep_df).multiply(100)\n",
    "# seep_diff_report = ProfileReport(seep_diff_df, title=\"diff\",config_file='config_minimal.yaml')"
   ]
  },
  {
   "cell_type": "code",
   "execution_count": null,
   "metadata": {},
   "outputs": [],
   "source": [
    "diff_desc = seep_diff_df.replace([np.inf, -np.inf],np.nan).describe()\n",
    "diff_desc = diff_desc.T\n",
    "# diff_desc.to_csv(\"seep_diff_desc.csv\")\n",
    "\n",
    "pc_desc = seep_pc_df.replace([np.inf, -np.inf],np.nan).describe()\n",
    "pc_desc = pc_desc.T\n",
    "# pc_desc.to_csv(\"seep_pc_desc.csv\")"
   ]
  },
  {
   "cell_type": "code",
   "execution_count": null,
   "metadata": {},
   "outputs": [],
   "source": [
    "plt.figure(figsize=(10,6))\n",
    "plt.subplot(2, 1, 1)\n",
    "plt.title('SEEP-FLOW difference and percent change between deltaCD and dcdv1.3 outputs')\n",
    "plt.bar(diff_desc.index,diff_desc['mean'])\n",
    "plt.ylabel('difference (cfs)')\n",
    "# plt.xticks(np.arange(1, 257+1, 17))\n",
    "\n",
    "plt.subplot(2, 1, 2)\n",
    "plt.bar(pc_desc.index,pc_desc['mean'])\n",
    "plt.ylabel('percent change')\n",
    "plt.xlabel('node')\n",
    "# plt.xticks(np.arange(1, 257+1, 17))\n",
    "# plt.savefig('smcd_schism_seep_diff_pc.png')"
   ]
  },
  {
   "cell_type": "code",
   "execution_count": null,
   "metadata": {},
   "outputs": [],
   "source": []
  }
 ],
 "metadata": {
  "kernelspec": {
   "display_name": "Python 3 (ipykernel)",
   "language": "python",
   "name": "python3"
  },
  "language_info": {
   "codemirror_mode": {
    "name": "ipython",
    "version": 3
   },
   "file_extension": ".py",
   "mimetype": "text/x-python",
   "name": "python",
   "nbconvert_exporter": "python",
   "pygments_lexer": "ipython3",
   "version": "3.8.16"
  }
 },
 "nbformat": 4,
 "nbformat_minor": 4
}
